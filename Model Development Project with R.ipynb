{
 "cells": [
  {
   "cell_type": "markdown",
   "metadata": {},
   "source": [
    "<center>\n",
    "    <img src=\"https://s3-api.us-geo.objectstorage.softlayer.net/cf-courses-data/CognitiveClass/Logos/organization_logo/organization_logo.png\" width=\"300\" alt=\"cognitiveclass.ai logo\"  />\n",
    "</center>\n",
    "\n",
    "# Assignment: Notebook for Peer Assignment\n",
    "\n",
    "Estimated time needed: 60 minutes\n"
   ]
  },
  {
   "cell_type": "markdown",
   "metadata": {},
   "source": [
    "# Introduction\n",
    "\n",
    "This project relates to the NOAA Weather Dataset - JFK Airport (New York). The original dataset contains 114,546 hourly observations of 12 local climatological variables (such as temperature and wind speed) collected at JFK airport. This dataset can be obtained for free from the IBM Developer [Data Asset Exchange](https://developer.ibm.com/exchanges/data/all/jfk-weather-data/?utm_medium=Exinfluencer&utm_source=Exinfluencer&utm_content=000026UJ&utm_term=10006555&utm_id=NA-SkillsNetwork-Channel-SkillsNetworkCoursesIBMDA0151ENSkillsNetwork21582452-2021-01-01).\n",
    "\n",
    "For this project, you will be using a subset dataset, which contains 5727 rows (about 5% or original rows) and 9 columns. The end goal will be to predict the precipitation using some of the available features. In this project, you will practice reading data files, preprocessing data, creating models, improving models and evaluating them to ultimately choose the best model.\n"
   ]
  },
  {
   "cell_type": "code",
   "execution_count": 1,
   "metadata": {
    "vscode": {
     "languageId": "r"
    }
   },
   "outputs": [
    {
     "name": "stderr",
     "output_type": "stream",
     "text": [
      "Updating HTML index of packages in '.Library'\n",
      "Making 'packages.html' ... done\n",
      "Updating HTML index of packages in '.Library'\n",
      "Making 'packages.html' ... done\n"
     ]
    }
   ],
   "source": [
    "# Install tidymodels if you haven't done so\n",
    "install.packages(\"rlang\")\n",
    "install.packages(\"tidymodels\")"
   ]
  },
  {
   "cell_type": "code",
   "execution_count": 2,
   "metadata": {
    "vscode": {
     "languageId": "r"
    }
   },
   "outputs": [
    {
     "name": "stderr",
     "output_type": "stream",
     "text": [
      "── Attaching packages ────────────────────────────────────── tidymodels 1.0.0 ──\n",
      "✔ broom        1.0.0     ✔ recipes      1.0.1\n",
      "✔ dials        1.0.0     ✔ rsample      1.0.0\n",
      "✔ dplyr        1.0.9     ✔ tibble       3.1.8\n",
      "✔ ggplot2      3.3.6     ✔ tidyr        1.2.0\n",
      "✔ infer        1.0.2     ✔ tune         1.0.0\n",
      "✔ modeldata    1.0.0     ✔ workflows    1.0.0\n",
      "✔ parsnip      1.0.0     ✔ workflowsets 1.0.0\n",
      "✔ purrr        0.3.4     ✔ yardstick    1.0.0\n",
      "── Conflicts ───────────────────────────────────────── tidymodels_conflicts() ──\n",
      "✖ purrr::discard() masks scales::discard()\n",
      "✖ dplyr::filter()  masks stats::filter()\n",
      "✖ dplyr::lag()     masks stats::lag()\n",
      "✖ recipes::step()  masks stats::step()\n",
      "• Learn how to get started at https://www.tidymodels.org/start/\n",
      "── Attaching packages ─────────────────────────────────────── tidyverse 1.3.0 ──\n",
      "✔ readr   1.3.1     ✔ forcats 0.5.0\n",
      "✔ stringr 1.4.0     \n",
      "── Conflicts ────────────────────────────────────────── tidyverse_conflicts() ──\n",
      "✖ readr::col_factor() masks scales::col_factor()\n",
      "✖ purrr::discard()    masks scales::discard()\n",
      "✖ dplyr::filter()     masks stats::filter()\n",
      "✖ stringr::fixed()    masks recipes::fixed()\n",
      "✖ dplyr::lag()        masks stats::lag()\n",
      "✖ readr::spec()       masks yardstick::spec()\n"
     ]
    }
   ],
   "source": [
    "# Library for modeling\n",
    "library(tidymodels)\n",
    "\n",
    "# Load tidyverse\n",
    "library(tidyverse)"
   ]
  },
  {
   "cell_type": "code",
   "execution_count": 3,
   "metadata": {
    "vscode": {
     "languageId": "r"
    }
   },
   "outputs": [],
   "source": [
    "# url where the data is located\n",
    "url <- \"https://dax-cdn.cdn.appdomain.cloud/dax-noaa-weather-data-jfk-airport/1.1.4/noaa-weather-sample-data.tar.gz\"\n",
    "# download the file\n",
    "download.file(url, destfile = \"noaa-weather-sample-data.tar.gz\")\n"
   ]
  },
  {
   "cell_type": "markdown",
   "metadata": {},
   "source": [
    "Untar the zipped file.\n"
   ]
  },
  {
   "cell_type": "code",
   "execution_count": 4,
   "metadata": {
    "vscode": {
     "languageId": "r"
    }
   },
   "outputs": [
    {
     "name": "stderr",
     "output_type": "stream",
     "text": [
      "Warning message in untar2(tarfile, files, list, exdir, restore_times):\n",
      "“using pax extended headers”"
     ]
    }
   ],
   "source": [
    "# untar the file so we can get the csv only\n",
    "untar(\"noaa-weather-sample-data.tar.gz\", tar = \"internal\")"
   ]
  },
  {
   "cell_type": "markdown",
   "metadata": {},
   "source": [
    "<a id=\"cell2\"></a>\n",
    "\n",
    "## 2. Extract and Read into Project\n",
    "\n",
    "We start by reading in the raw dataset. You should specify the file name as \"noaa-weather-sample-data/jfk_weather_sample.csv\".\n"
   ]
  },
  {
   "cell_type": "code",
   "execution_count": 5,
   "metadata": {
    "vscode": {
     "languageId": "r"
    }
   },
   "outputs": [],
   "source": [
    "# read_csv only \n",
    "weather_data <- read_csv(\"noaa-weather-sample-data/jfk_weather_sample.csv\",\n",
    "                     col_types = cols(\n",
    "                      \"HOURLYDewPointTempF\" = col_number(),\n",
    "                      \"HOURLYRelativeHumidity\" = col_number()\n",
    "                    ))"
   ]
  },
  {
   "cell_type": "markdown",
   "metadata": {},
   "source": [
    "Next, display the first few rows of the dataframe.\n"
   ]
  },
  {
   "cell_type": "code",
   "execution_count": 6,
   "metadata": {
    "vscode": {
     "languageId": "r"
    }
   },
   "outputs": [
    {
     "data": {
      "text/html": [
       "<table>\n",
       "<caption>A tibble: 6 × 9</caption>\n",
       "<thead>\n",
       "\t<tr><th scope=col>DATE</th><th scope=col>HOURLYDewPointTempF</th><th scope=col>HOURLYRelativeHumidity</th><th scope=col>HOURLYDRYBULBTEMPF</th><th scope=col>HOURLYWETBULBTEMPF</th><th scope=col>HOURLYPrecip</th><th scope=col>HOURLYWindSpeed</th><th scope=col>HOURLYSeaLevelPressure</th><th scope=col>HOURLYStationPressure</th></tr>\n",
       "\t<tr><th scope=col>&lt;dttm&gt;</th><th scope=col>&lt;dbl&gt;</th><th scope=col>&lt;dbl&gt;</th><th scope=col>&lt;dbl&gt;</th><th scope=col>&lt;dbl&gt;</th><th scope=col>&lt;chr&gt;</th><th scope=col>&lt;dbl&gt;</th><th scope=col>&lt;dbl&gt;</th><th scope=col>&lt;dbl&gt;</th></tr>\n",
       "</thead>\n",
       "<tbody>\n",
       "\t<tr><td>2015-07-25 13:51:00</td><td>60</td><td>46</td><td>83</td><td>68</td><td>0.00</td><td>13</td><td>30.01</td><td>29.99</td></tr>\n",
       "\t<tr><td>2016-11-18 23:51:00</td><td>34</td><td>48</td><td>53</td><td>44</td><td>0.00</td><td> 6</td><td>30.05</td><td>30.03</td></tr>\n",
       "\t<tr><td>2013-01-06 08:51:00</td><td>33</td><td>89</td><td>36</td><td>35</td><td>0.00</td><td>13</td><td>30.14</td><td>30.12</td></tr>\n",
       "\t<tr><td>2011-01-27 16:51:00</td><td>18</td><td>48</td><td>36</td><td>30</td><td>0.00</td><td>14</td><td>29.82</td><td>29.80</td></tr>\n",
       "\t<tr><td>2015-01-03 12:16:00</td><td>27</td><td>61</td><td>39</td><td>34</td><td>T   </td><td>11</td><td>   NA</td><td>30.50</td></tr>\n",
       "\t<tr><td>2013-02-15 20:51:00</td><td>35</td><td>79</td><td>41</td><td>38</td><td>0.00</td><td> 6</td><td>29.94</td><td>29.92</td></tr>\n",
       "</tbody>\n",
       "</table>\n"
      ],
      "text/latex": [
       "A tibble: 6 × 9\n",
       "\\begin{tabular}{lllllllll}\n",
       " DATE & HOURLYDewPointTempF & HOURLYRelativeHumidity & HOURLYDRYBULBTEMPF & HOURLYWETBULBTEMPF & HOURLYPrecip & HOURLYWindSpeed & HOURLYSeaLevelPressure & HOURLYStationPressure\\\\\n",
       " <dttm> & <dbl> & <dbl> & <dbl> & <dbl> & <chr> & <dbl> & <dbl> & <dbl>\\\\\n",
       "\\hline\n",
       "\t 2015-07-25 13:51:00 & 60 & 46 & 83 & 68 & 0.00 & 13 & 30.01 & 29.99\\\\\n",
       "\t 2016-11-18 23:51:00 & 34 & 48 & 53 & 44 & 0.00 &  6 & 30.05 & 30.03\\\\\n",
       "\t 2013-01-06 08:51:00 & 33 & 89 & 36 & 35 & 0.00 & 13 & 30.14 & 30.12\\\\\n",
       "\t 2011-01-27 16:51:00 & 18 & 48 & 36 & 30 & 0.00 & 14 & 29.82 & 29.80\\\\\n",
       "\t 2015-01-03 12:16:00 & 27 & 61 & 39 & 34 & T    & 11 &    NA & 30.50\\\\\n",
       "\t 2013-02-15 20:51:00 & 35 & 79 & 41 & 38 & 0.00 &  6 & 29.94 & 29.92\\\\\n",
       "\\end{tabular}\n"
      ],
      "text/markdown": [
       "\n",
       "A tibble: 6 × 9\n",
       "\n",
       "| DATE &lt;dttm&gt; | HOURLYDewPointTempF &lt;dbl&gt; | HOURLYRelativeHumidity &lt;dbl&gt; | HOURLYDRYBULBTEMPF &lt;dbl&gt; | HOURLYWETBULBTEMPF &lt;dbl&gt; | HOURLYPrecip &lt;chr&gt; | HOURLYWindSpeed &lt;dbl&gt; | HOURLYSeaLevelPressure &lt;dbl&gt; | HOURLYStationPressure &lt;dbl&gt; |\n",
       "|---|---|---|---|---|---|---|---|---|\n",
       "| 2015-07-25 13:51:00 | 60 | 46 | 83 | 68 | 0.00 | 13 | 30.01 | 29.99 |\n",
       "| 2016-11-18 23:51:00 | 34 | 48 | 53 | 44 | 0.00 |  6 | 30.05 | 30.03 |\n",
       "| 2013-01-06 08:51:00 | 33 | 89 | 36 | 35 | 0.00 | 13 | 30.14 | 30.12 |\n",
       "| 2011-01-27 16:51:00 | 18 | 48 | 36 | 30 | 0.00 | 14 | 29.82 | 29.80 |\n",
       "| 2015-01-03 12:16:00 | 27 | 61 | 39 | 34 | T    | 11 |    NA | 30.50 |\n",
       "| 2013-02-15 20:51:00 | 35 | 79 | 41 | 38 | 0.00 |  6 | 29.94 | 29.92 |\n",
       "\n"
      ],
      "text/plain": [
       "  DATE                HOURLYDewPointTempF HOURLYRelativeHumidity\n",
       "1 2015-07-25 13:51:00 60                  46                    \n",
       "2 2016-11-18 23:51:00 34                  48                    \n",
       "3 2013-01-06 08:51:00 33                  89                    \n",
       "4 2011-01-27 16:51:00 18                  48                    \n",
       "5 2015-01-03 12:16:00 27                  61                    \n",
       "6 2013-02-15 20:51:00 35                  79                    \n",
       "  HOURLYDRYBULBTEMPF HOURLYWETBULBTEMPF HOURLYPrecip HOURLYWindSpeed\n",
       "1 83                 68                 0.00         13             \n",
       "2 53                 44                 0.00          6             \n",
       "3 36                 35                 0.00         13             \n",
       "4 36                 30                 0.00         14             \n",
       "5 39                 34                 T            11             \n",
       "6 41                 38                 0.00          6             \n",
       "  HOURLYSeaLevelPressure HOURLYStationPressure\n",
       "1 30.01                  29.99                \n",
       "2 30.05                  30.03                \n",
       "3 30.14                  30.12                \n",
       "4 29.82                  29.80                \n",
       "5    NA                  30.50                \n",
       "6 29.94                  29.92                "
      ]
     },
     "metadata": {},
     "output_type": "display_data"
    }
   ],
   "source": [
    "head(weather_data)"
   ]
  },
  {
   "cell_type": "markdown",
   "metadata": {},
   "source": [
    "Also, take a `glimpse` of the dataset to see the different column data types and make sure it is the correct subset dataset with about 5700 rows and 9 columns.\n"
   ]
  },
  {
   "cell_type": "code",
   "execution_count": 7,
   "metadata": {
    "vscode": {
     "languageId": "r"
    }
   },
   "outputs": [
    {
     "name": "stdout",
     "output_type": "stream",
     "text": [
      "Rows: 5,727\n",
      "Columns: 9\n",
      "$ DATE                   <dttm> 2015-07-25 13:51:00, 2016-11-18 23:51:00, 2013…\n",
      "$ HOURLYDewPointTempF    <dbl> 60, 34, 33, 18, 27, 35, 4, 14, 51, 71, 76, 19, …\n",
      "$ HOURLYRelativeHumidity <dbl> 46, 48, 89, 48, 61, 79, 51, 65, 90, 94, 79, 37,…\n",
      "$ HOURLYDRYBULBTEMPF     <dbl> 83, 53, 36, 36, 39, 41, 19, 24, 54, 73, 83, 44,…\n",
      "$ HOURLYWETBULBTEMPF     <dbl> 68, 44, 35, 30, 34, 38, 15, 21, 52, 72, 78, 35,…\n",
      "$ HOURLYPrecip           <chr> \"0.00\", \"0.00\", \"0.00\", \"0.00\", \"T\", \"0.00\", \"0…\n",
      "$ HOURLYWindSpeed        <dbl> 13, 6, 13, 14, 11, 6, 0, 11, 11, 5, 21, 7, 17, …\n",
      "$ HOURLYSeaLevelPressure <dbl> 30.01, 30.05, 30.14, 29.82, NA, 29.94, 30.42, 3…\n",
      "$ HOURLYStationPressure  <dbl> 29.99, 30.03, 30.12, 29.80, 30.50, 29.92, 30.40…\n"
     ]
    }
   ],
   "source": [
    "glimpse(weather_data)"
   ]
  },
  {
   "cell_type": "code",
   "execution_count": 8,
   "metadata": {
    "vscode": {
     "languageId": "r"
    }
   },
   "outputs": [
    {
     "data": {
      "text/html": [
       "<table>\n",
       "<caption>A tibble: 5727 × 5</caption>\n",
       "<thead>\n",
       "\t<tr><th scope=col>HOURLYRelativeHumidity</th><th scope=col>HOURLYDRYBULBTEMPF</th><th scope=col>HOURLYPrecip</th><th scope=col>HOURLYWindSpeed</th><th scope=col>HOURLYStationPressure</th></tr>\n",
       "\t<tr><th scope=col>&lt;dbl&gt;</th><th scope=col>&lt;dbl&gt;</th><th scope=col>&lt;chr&gt;</th><th scope=col>&lt;dbl&gt;</th><th scope=col>&lt;dbl&gt;</th></tr>\n",
       "</thead>\n",
       "<tbody>\n",
       "\t<tr><td>46</td><td>83</td><td>0.00</td><td>13</td><td>29.99</td></tr>\n",
       "\t<tr><td>48</td><td>53</td><td>0.00</td><td> 6</td><td>30.03</td></tr>\n",
       "\t<tr><td>89</td><td>36</td><td>0.00</td><td>13</td><td>30.12</td></tr>\n",
       "\t<tr><td>48</td><td>36</td><td>0.00</td><td>14</td><td>29.80</td></tr>\n",
       "\t<tr><td>61</td><td>39</td><td>T   </td><td>11</td><td>30.50</td></tr>\n",
       "\t<tr><td>79</td><td>41</td><td>0.00</td><td> 6</td><td>29.92</td></tr>\n",
       "\t<tr><td>51</td><td>19</td><td>0.00</td><td> 0</td><td>30.40</td></tr>\n",
       "\t<tr><td>65</td><td>24</td><td>0.00</td><td>11</td><td>30.35</td></tr>\n",
       "\t<tr><td>90</td><td>54</td><td>0.06</td><td>11</td><td>30.03</td></tr>\n",
       "\t<tr><td>94</td><td>73</td><td>NA  </td><td> 5</td><td>29.91</td></tr>\n",
       "\t<tr><td>79</td><td>83</td><td>NA  </td><td>21</td><td>29.75</td></tr>\n",
       "\t<tr><td>37</td><td>44</td><td>0.00</td><td> 7</td><td>30.25</td></tr>\n",
       "\t<tr><td>72</td><td>57</td><td>0.00</td><td>17</td><td>29.84</td></tr>\n",
       "\t<tr><td>47</td><td>78</td><td>0.00</td><td> 8</td><td>30.16</td></tr>\n",
       "\t<tr><td>84</td><td>75</td><td>0.00</td><td> 3</td><td>30.17</td></tr>\n",
       "\t<tr><td>57</td><td>37</td><td>0.00</td><td>11</td><td>30.01</td></tr>\n",
       "\t<tr><td>37</td><td>73</td><td>0.00</td><td>13</td><td>29.96</td></tr>\n",
       "\t<tr><td>75</td><td>58</td><td>NA  </td><td> 9</td><td>30.28</td></tr>\n",
       "\t<tr><td>92</td><td>32</td><td>0.03</td><td> 9</td><td>29.59</td></tr>\n",
       "\t<tr><td>79</td><td>42</td><td>NA  </td><td> 3</td><td>30.10</td></tr>\n",
       "\t<tr><td>94</td><td>68</td><td>0.03</td><td>18</td><td>29.68</td></tr>\n",
       "\t<tr><td>71</td><td>71</td><td>NA  </td><td> 6</td><td>29.94</td></tr>\n",
       "\t<tr><td>78</td><td>57</td><td>0.00</td><td>10</td><td>30.49</td></tr>\n",
       "\t<tr><td>55</td><td>73</td><td>0.00</td><td>15</td><td>29.84</td></tr>\n",
       "\t<tr><td>79</td><td>44</td><td>0.02</td><td>23</td><td>29.66</td></tr>\n",
       "\t<tr><td>83</td><td>55</td><td>NA  </td><td> 3</td><td>30.11</td></tr>\n",
       "\t<tr><td>74</td><td>75</td><td>0.00</td><td>14</td><td>29.78</td></tr>\n",
       "\t<tr><td>36</td><td>47</td><td>NA  </td><td>13</td><td>29.85</td></tr>\n",
       "\t<tr><td>89</td><td>42</td><td>T   </td><td>22</td><td>29.58</td></tr>\n",
       "\t<tr><td>42</td><td>24</td><td>0.00</td><td>22</td><td>29.79</td></tr>\n",
       "\t<tr><td>⋮</td><td>⋮</td><td>⋮</td><td>⋮</td><td>⋮</td></tr>\n",
       "\t<tr><td> 71</td><td>51</td><td>T   </td><td>13</td><td>29.77</td></tr>\n",
       "\t<tr><td> 62</td><td>76</td><td>0.00</td><td>21</td><td>29.97</td></tr>\n",
       "\t<tr><td> 94</td><td>54</td><td>T   </td><td> 8</td><td>29.57</td></tr>\n",
       "\t<tr><td> 53</td><td>71</td><td>0.00</td><td> 6</td><td>29.99</td></tr>\n",
       "\t<tr><td> 90</td><td>75</td><td>0.00</td><td>10</td><td>29.95</td></tr>\n",
       "\t<tr><td> 40</td><td>63</td><td>0.00</td><td>11</td><td>30.07</td></tr>\n",
       "\t<tr><td> 40</td><td>46</td><td>0.00</td><td>14</td><td>30.30</td></tr>\n",
       "\t<tr><td> 67</td><td>84</td><td>0.00</td><td> 8</td><td>29.83</td></tr>\n",
       "\t<tr><td> 60</td><td>75</td><td>0.00</td><td> 9</td><td>29.98</td></tr>\n",
       "\t<tr><td> 87</td><td>58</td><td>0.02</td><td>10</td><td>29.87</td></tr>\n",
       "\t<tr><td> 54</td><td>34</td><td>0.00</td><td> 7</td><td>30.63</td></tr>\n",
       "\t<tr><td> 79</td><td>74</td><td>0.00</td><td>14</td><td>29.97</td></tr>\n",
       "\t<tr><td> 79</td><td>67</td><td>NA  </td><td> 5</td><td>30.17</td></tr>\n",
       "\t<tr><td> 57</td><td>36</td><td>0.00</td><td>20</td><td>29.72</td></tr>\n",
       "\t<tr><td> 71</td><td>67</td><td>0.00</td><td> 7</td><td>29.88</td></tr>\n",
       "\t<tr><td> 54</td><td>19</td><td>0.00</td><td> 9</td><td>30.36</td></tr>\n",
       "\t<tr><td> 34</td><td>54</td><td>0.00</td><td>13</td><td>29.97</td></tr>\n",
       "\t<tr><td> 32</td><td>18</td><td>0.00</td><td>20</td><td>30.48</td></tr>\n",
       "\t<tr><td> 78</td><td>26</td><td>T   </td><td>22</td><td>29.91</td></tr>\n",
       "\t<tr><td> 52</td><td>18</td><td>0.00</td><td> 8</td><td>30.00</td></tr>\n",
       "\t<tr><td>100</td><td>40</td><td>0.03</td><td> 9</td><td>30.00</td></tr>\n",
       "\t<tr><td> 49</td><td>57</td><td>0.00</td><td>16</td><td>29.90</td></tr>\n",
       "\t<tr><td> 66</td><td>67</td><td>0.00</td><td>16</td><td>30.26</td></tr>\n",
       "\t<tr><td> 97</td><td>38</td><td>0.01</td><td>17</td><td>29.65</td></tr>\n",
       "\t<tr><td> 64</td><td>72</td><td>0.00</td><td> 9</td><td>30.21</td></tr>\n",
       "\t<tr><td> 67</td><td>61</td><td>0.00</td><td> 6</td><td>29.72</td></tr>\n",
       "\t<tr><td> NA</td><td>NA</td><td>NA  </td><td>NA</td><td>   NA</td></tr>\n",
       "\t<tr><td> 48</td><td>53</td><td>0.00</td><td> 3</td><td>30.26</td></tr>\n",
       "\t<tr><td> 75</td><td>32</td><td>0.00</td><td> 7</td><td>29.69</td></tr>\n",
       "\t<tr><td> 52</td><td>38</td><td>0.00</td><td> 0</td><td>29.97</td></tr>\n",
       "</tbody>\n",
       "</table>\n"
      ],
      "text/latex": [
       "A tibble: 5727 × 5\n",
       "\\begin{tabular}{lllll}\n",
       " HOURLYRelativeHumidity & HOURLYDRYBULBTEMPF & HOURLYPrecip & HOURLYWindSpeed & HOURLYStationPressure\\\\\n",
       " <dbl> & <dbl> & <chr> & <dbl> & <dbl>\\\\\n",
       "\\hline\n",
       "\t 46 & 83 & 0.00 & 13 & 29.99\\\\\n",
       "\t 48 & 53 & 0.00 &  6 & 30.03\\\\\n",
       "\t 89 & 36 & 0.00 & 13 & 30.12\\\\\n",
       "\t 48 & 36 & 0.00 & 14 & 29.80\\\\\n",
       "\t 61 & 39 & T    & 11 & 30.50\\\\\n",
       "\t 79 & 41 & 0.00 &  6 & 29.92\\\\\n",
       "\t 51 & 19 & 0.00 &  0 & 30.40\\\\\n",
       "\t 65 & 24 & 0.00 & 11 & 30.35\\\\\n",
       "\t 90 & 54 & 0.06 & 11 & 30.03\\\\\n",
       "\t 94 & 73 & NA   &  5 & 29.91\\\\\n",
       "\t 79 & 83 & NA   & 21 & 29.75\\\\\n",
       "\t 37 & 44 & 0.00 &  7 & 30.25\\\\\n",
       "\t 72 & 57 & 0.00 & 17 & 29.84\\\\\n",
       "\t 47 & 78 & 0.00 &  8 & 30.16\\\\\n",
       "\t 84 & 75 & 0.00 &  3 & 30.17\\\\\n",
       "\t 57 & 37 & 0.00 & 11 & 30.01\\\\\n",
       "\t 37 & 73 & 0.00 & 13 & 29.96\\\\\n",
       "\t 75 & 58 & NA   &  9 & 30.28\\\\\n",
       "\t 92 & 32 & 0.03 &  9 & 29.59\\\\\n",
       "\t 79 & 42 & NA   &  3 & 30.10\\\\\n",
       "\t 94 & 68 & 0.03 & 18 & 29.68\\\\\n",
       "\t 71 & 71 & NA   &  6 & 29.94\\\\\n",
       "\t 78 & 57 & 0.00 & 10 & 30.49\\\\\n",
       "\t 55 & 73 & 0.00 & 15 & 29.84\\\\\n",
       "\t 79 & 44 & 0.02 & 23 & 29.66\\\\\n",
       "\t 83 & 55 & NA   &  3 & 30.11\\\\\n",
       "\t 74 & 75 & 0.00 & 14 & 29.78\\\\\n",
       "\t 36 & 47 & NA   & 13 & 29.85\\\\\n",
       "\t 89 & 42 & T    & 22 & 29.58\\\\\n",
       "\t 42 & 24 & 0.00 & 22 & 29.79\\\\\n",
       "\t ⋮ & ⋮ & ⋮ & ⋮ & ⋮\\\\\n",
       "\t  71 & 51 & T    & 13 & 29.77\\\\\n",
       "\t  62 & 76 & 0.00 & 21 & 29.97\\\\\n",
       "\t  94 & 54 & T    &  8 & 29.57\\\\\n",
       "\t  53 & 71 & 0.00 &  6 & 29.99\\\\\n",
       "\t  90 & 75 & 0.00 & 10 & 29.95\\\\\n",
       "\t  40 & 63 & 0.00 & 11 & 30.07\\\\\n",
       "\t  40 & 46 & 0.00 & 14 & 30.30\\\\\n",
       "\t  67 & 84 & 0.00 &  8 & 29.83\\\\\n",
       "\t  60 & 75 & 0.00 &  9 & 29.98\\\\\n",
       "\t  87 & 58 & 0.02 & 10 & 29.87\\\\\n",
       "\t  54 & 34 & 0.00 &  7 & 30.63\\\\\n",
       "\t  79 & 74 & 0.00 & 14 & 29.97\\\\\n",
       "\t  79 & 67 & NA   &  5 & 30.17\\\\\n",
       "\t  57 & 36 & 0.00 & 20 & 29.72\\\\\n",
       "\t  71 & 67 & 0.00 &  7 & 29.88\\\\\n",
       "\t  54 & 19 & 0.00 &  9 & 30.36\\\\\n",
       "\t  34 & 54 & 0.00 & 13 & 29.97\\\\\n",
       "\t  32 & 18 & 0.00 & 20 & 30.48\\\\\n",
       "\t  78 & 26 & T    & 22 & 29.91\\\\\n",
       "\t  52 & 18 & 0.00 &  8 & 30.00\\\\\n",
       "\t 100 & 40 & 0.03 &  9 & 30.00\\\\\n",
       "\t  49 & 57 & 0.00 & 16 & 29.90\\\\\n",
       "\t  66 & 67 & 0.00 & 16 & 30.26\\\\\n",
       "\t  97 & 38 & 0.01 & 17 & 29.65\\\\\n",
       "\t  64 & 72 & 0.00 &  9 & 30.21\\\\\n",
       "\t  67 & 61 & 0.00 &  6 & 29.72\\\\\n",
       "\t  NA & NA & NA   & NA &    NA\\\\\n",
       "\t  48 & 53 & 0.00 &  3 & 30.26\\\\\n",
       "\t  75 & 32 & 0.00 &  7 & 29.69\\\\\n",
       "\t  52 & 38 & 0.00 &  0 & 29.97\\\\\n",
       "\\end{tabular}\n"
      ],
      "text/markdown": [
       "\n",
       "A tibble: 5727 × 5\n",
       "\n",
       "| HOURLYRelativeHumidity &lt;dbl&gt; | HOURLYDRYBULBTEMPF &lt;dbl&gt; | HOURLYPrecip &lt;chr&gt; | HOURLYWindSpeed &lt;dbl&gt; | HOURLYStationPressure &lt;dbl&gt; |\n",
       "|---|---|---|---|---|\n",
       "| 46 | 83 | 0.00 | 13 | 29.99 |\n",
       "| 48 | 53 | 0.00 |  6 | 30.03 |\n",
       "| 89 | 36 | 0.00 | 13 | 30.12 |\n",
       "| 48 | 36 | 0.00 | 14 | 29.80 |\n",
       "| 61 | 39 | T    | 11 | 30.50 |\n",
       "| 79 | 41 | 0.00 |  6 | 29.92 |\n",
       "| 51 | 19 | 0.00 |  0 | 30.40 |\n",
       "| 65 | 24 | 0.00 | 11 | 30.35 |\n",
       "| 90 | 54 | 0.06 | 11 | 30.03 |\n",
       "| 94 | 73 | NA   |  5 | 29.91 |\n",
       "| 79 | 83 | NA   | 21 | 29.75 |\n",
       "| 37 | 44 | 0.00 |  7 | 30.25 |\n",
       "| 72 | 57 | 0.00 | 17 | 29.84 |\n",
       "| 47 | 78 | 0.00 |  8 | 30.16 |\n",
       "| 84 | 75 | 0.00 |  3 | 30.17 |\n",
       "| 57 | 37 | 0.00 | 11 | 30.01 |\n",
       "| 37 | 73 | 0.00 | 13 | 29.96 |\n",
       "| 75 | 58 | NA   |  9 | 30.28 |\n",
       "| 92 | 32 | 0.03 |  9 | 29.59 |\n",
       "| 79 | 42 | NA   |  3 | 30.10 |\n",
       "| 94 | 68 | 0.03 | 18 | 29.68 |\n",
       "| 71 | 71 | NA   |  6 | 29.94 |\n",
       "| 78 | 57 | 0.00 | 10 | 30.49 |\n",
       "| 55 | 73 | 0.00 | 15 | 29.84 |\n",
       "| 79 | 44 | 0.02 | 23 | 29.66 |\n",
       "| 83 | 55 | NA   |  3 | 30.11 |\n",
       "| 74 | 75 | 0.00 | 14 | 29.78 |\n",
       "| 36 | 47 | NA   | 13 | 29.85 |\n",
       "| 89 | 42 | T    | 22 | 29.58 |\n",
       "| 42 | 24 | 0.00 | 22 | 29.79 |\n",
       "| ⋮ | ⋮ | ⋮ | ⋮ | ⋮ |\n",
       "|  71 | 51 | T    | 13 | 29.77 |\n",
       "|  62 | 76 | 0.00 | 21 | 29.97 |\n",
       "|  94 | 54 | T    |  8 | 29.57 |\n",
       "|  53 | 71 | 0.00 |  6 | 29.99 |\n",
       "|  90 | 75 | 0.00 | 10 | 29.95 |\n",
       "|  40 | 63 | 0.00 | 11 | 30.07 |\n",
       "|  40 | 46 | 0.00 | 14 | 30.30 |\n",
       "|  67 | 84 | 0.00 |  8 | 29.83 |\n",
       "|  60 | 75 | 0.00 |  9 | 29.98 |\n",
       "|  87 | 58 | 0.02 | 10 | 29.87 |\n",
       "|  54 | 34 | 0.00 |  7 | 30.63 |\n",
       "|  79 | 74 | 0.00 | 14 | 29.97 |\n",
       "|  79 | 67 | NA   |  5 | 30.17 |\n",
       "|  57 | 36 | 0.00 | 20 | 29.72 |\n",
       "|  71 | 67 | 0.00 |  7 | 29.88 |\n",
       "|  54 | 19 | 0.00 |  9 | 30.36 |\n",
       "|  34 | 54 | 0.00 | 13 | 29.97 |\n",
       "|  32 | 18 | 0.00 | 20 | 30.48 |\n",
       "|  78 | 26 | T    | 22 | 29.91 |\n",
       "|  52 | 18 | 0.00 |  8 | 30.00 |\n",
       "| 100 | 40 | 0.03 |  9 | 30.00 |\n",
       "|  49 | 57 | 0.00 | 16 | 29.90 |\n",
       "|  66 | 67 | 0.00 | 16 | 30.26 |\n",
       "|  97 | 38 | 0.01 | 17 | 29.65 |\n",
       "|  64 | 72 | 0.00 |  9 | 30.21 |\n",
       "|  67 | 61 | 0.00 |  6 | 29.72 |\n",
       "|  NA | NA | NA   | NA |    NA |\n",
       "|  48 | 53 | 0.00 |  3 | 30.26 |\n",
       "|  75 | 32 | 0.00 |  7 | 29.69 |\n",
       "|  52 | 38 | 0.00 |  0 | 29.97 |\n",
       "\n"
      ],
      "text/plain": [
       "     HOURLYRelativeHumidity HOURLYDRYBULBTEMPF HOURLYPrecip HOURLYWindSpeed\n",
       "1    46                     83                 0.00         13             \n",
       "2    48                     53                 0.00          6             \n",
       "3    89                     36                 0.00         13             \n",
       "4    48                     36                 0.00         14             \n",
       "5    61                     39                 T            11             \n",
       "6    79                     41                 0.00          6             \n",
       "7    51                     19                 0.00          0             \n",
       "8    65                     24                 0.00         11             \n",
       "9    90                     54                 0.06         11             \n",
       "10   94                     73                 NA            5             \n",
       "11   79                     83                 NA           21             \n",
       "12   37                     44                 0.00          7             \n",
       "13   72                     57                 0.00         17             \n",
       "14   47                     78                 0.00          8             \n",
       "15   84                     75                 0.00          3             \n",
       "16   57                     37                 0.00         11             \n",
       "17   37                     73                 0.00         13             \n",
       "18   75                     58                 NA            9             \n",
       "19   92                     32                 0.03          9             \n",
       "20   79                     42                 NA            3             \n",
       "21   94                     68                 0.03         18             \n",
       "22   71                     71                 NA            6             \n",
       "23   78                     57                 0.00         10             \n",
       "24   55                     73                 0.00         15             \n",
       "25   79                     44                 0.02         23             \n",
       "26   83                     55                 NA            3             \n",
       "27   74                     75                 0.00         14             \n",
       "28   36                     47                 NA           13             \n",
       "29   89                     42                 T            22             \n",
       "30   42                     24                 0.00         22             \n",
       "⋮    ⋮                      ⋮                  ⋮            ⋮              \n",
       "5698  71                    51                 T            13             \n",
       "5699  62                    76                 0.00         21             \n",
       "5700  94                    54                 T             8             \n",
       "5701  53                    71                 0.00          6             \n",
       "5702  90                    75                 0.00         10             \n",
       "5703  40                    63                 0.00         11             \n",
       "5704  40                    46                 0.00         14             \n",
       "5705  67                    84                 0.00          8             \n",
       "5706  60                    75                 0.00          9             \n",
       "5707  87                    58                 0.02         10             \n",
       "5708  54                    34                 0.00          7             \n",
       "5709  79                    74                 0.00         14             \n",
       "5710  79                    67                 NA            5             \n",
       "5711  57                    36                 0.00         20             \n",
       "5712  71                    67                 0.00          7             \n",
       "5713  54                    19                 0.00          9             \n",
       "5714  34                    54                 0.00         13             \n",
       "5715  32                    18                 0.00         20             \n",
       "5716  78                    26                 T            22             \n",
       "5717  52                    18                 0.00          8             \n",
       "5718 100                    40                 0.03          9             \n",
       "5719  49                    57                 0.00         16             \n",
       "5720  66                    67                 0.00         16             \n",
       "5721  97                    38                 0.01         17             \n",
       "5722  64                    72                 0.00          9             \n",
       "5723  67                    61                 0.00          6             \n",
       "5724  NA                    NA                 NA           NA             \n",
       "5725  48                    53                 0.00          3             \n",
       "5726  75                    32                 0.00          7             \n",
       "5727  52                    38                 0.00          0             \n",
       "     HOURLYStationPressure\n",
       "1    29.99                \n",
       "2    30.03                \n",
       "3    30.12                \n",
       "4    29.80                \n",
       "5    30.50                \n",
       "6    29.92                \n",
       "7    30.40                \n",
       "8    30.35                \n",
       "9    30.03                \n",
       "10   29.91                \n",
       "11   29.75                \n",
       "12   30.25                \n",
       "13   29.84                \n",
       "14   30.16                \n",
       "15   30.17                \n",
       "16   30.01                \n",
       "17   29.96                \n",
       "18   30.28                \n",
       "19   29.59                \n",
       "20   30.10                \n",
       "21   29.68                \n",
       "22   29.94                \n",
       "23   30.49                \n",
       "24   29.84                \n",
       "25   29.66                \n",
       "26   30.11                \n",
       "27   29.78                \n",
       "28   29.85                \n",
       "29   29.58                \n",
       "30   29.79                \n",
       "⋮    ⋮                    \n",
       "5698 29.77                \n",
       "5699 29.97                \n",
       "5700 29.57                \n",
       "5701 29.99                \n",
       "5702 29.95                \n",
       "5703 30.07                \n",
       "5704 30.30                \n",
       "5705 29.83                \n",
       "5706 29.98                \n",
       "5707 29.87                \n",
       "5708 30.63                \n",
       "5709 29.97                \n",
       "5710 30.17                \n",
       "5711 29.72                \n",
       "5712 29.88                \n",
       "5713 30.36                \n",
       "5714 29.97                \n",
       "5715 30.48                \n",
       "5716 29.91                \n",
       "5717 30.00                \n",
       "5718 30.00                \n",
       "5719 29.90                \n",
       "5720 30.26                \n",
       "5721 29.65                \n",
       "5722 30.21                \n",
       "5723 29.72                \n",
       "5724    NA                \n",
       "5725 30.26                \n",
       "5726 29.69                \n",
       "5727 29.97                "
      ]
     },
     "metadata": {},
     "output_type": "display_data"
    }
   ],
   "source": [
    "modified_weather_data <- weather_data[c(3, 4, 6, 7, 9)]\n",
    "modified_weather_data"
   ]
  },
  {
   "cell_type": "markdown",
   "metadata": {},
   "source": [
    "Show the first 10 rows of this new dataframe.\n"
   ]
  },
  {
   "cell_type": "code",
   "execution_count": 9,
   "metadata": {
    "vscode": {
     "languageId": "r"
    }
   },
   "outputs": [
    {
     "data": {
      "text/html": [
       "<table>\n",
       "<caption>A tibble: 10 × 5</caption>\n",
       "<thead>\n",
       "\t<tr><th scope=col>HOURLYRelativeHumidity</th><th scope=col>HOURLYDRYBULBTEMPF</th><th scope=col>HOURLYPrecip</th><th scope=col>HOURLYWindSpeed</th><th scope=col>HOURLYStationPressure</th></tr>\n",
       "\t<tr><th scope=col>&lt;dbl&gt;</th><th scope=col>&lt;dbl&gt;</th><th scope=col>&lt;chr&gt;</th><th scope=col>&lt;dbl&gt;</th><th scope=col>&lt;dbl&gt;</th></tr>\n",
       "</thead>\n",
       "<tbody>\n",
       "\t<tr><td>46</td><td>83</td><td>0.00</td><td>13</td><td>29.99</td></tr>\n",
       "\t<tr><td>48</td><td>53</td><td>0.00</td><td> 6</td><td>30.03</td></tr>\n",
       "\t<tr><td>89</td><td>36</td><td>0.00</td><td>13</td><td>30.12</td></tr>\n",
       "\t<tr><td>48</td><td>36</td><td>0.00</td><td>14</td><td>29.80</td></tr>\n",
       "\t<tr><td>61</td><td>39</td><td>T   </td><td>11</td><td>30.50</td></tr>\n",
       "\t<tr><td>79</td><td>41</td><td>0.00</td><td> 6</td><td>29.92</td></tr>\n",
       "\t<tr><td>51</td><td>19</td><td>0.00</td><td> 0</td><td>30.40</td></tr>\n",
       "\t<tr><td>65</td><td>24</td><td>0.00</td><td>11</td><td>30.35</td></tr>\n",
       "\t<tr><td>90</td><td>54</td><td>0.06</td><td>11</td><td>30.03</td></tr>\n",
       "\t<tr><td>94</td><td>73</td><td>NA  </td><td> 5</td><td>29.91</td></tr>\n",
       "</tbody>\n",
       "</table>\n"
      ],
      "text/latex": [
       "A tibble: 10 × 5\n",
       "\\begin{tabular}{lllll}\n",
       " HOURLYRelativeHumidity & HOURLYDRYBULBTEMPF & HOURLYPrecip & HOURLYWindSpeed & HOURLYStationPressure\\\\\n",
       " <dbl> & <dbl> & <chr> & <dbl> & <dbl>\\\\\n",
       "\\hline\n",
       "\t 46 & 83 & 0.00 & 13 & 29.99\\\\\n",
       "\t 48 & 53 & 0.00 &  6 & 30.03\\\\\n",
       "\t 89 & 36 & 0.00 & 13 & 30.12\\\\\n",
       "\t 48 & 36 & 0.00 & 14 & 29.80\\\\\n",
       "\t 61 & 39 & T    & 11 & 30.50\\\\\n",
       "\t 79 & 41 & 0.00 &  6 & 29.92\\\\\n",
       "\t 51 & 19 & 0.00 &  0 & 30.40\\\\\n",
       "\t 65 & 24 & 0.00 & 11 & 30.35\\\\\n",
       "\t 90 & 54 & 0.06 & 11 & 30.03\\\\\n",
       "\t 94 & 73 & NA   &  5 & 29.91\\\\\n",
       "\\end{tabular}\n"
      ],
      "text/markdown": [
       "\n",
       "A tibble: 10 × 5\n",
       "\n",
       "| HOURLYRelativeHumidity &lt;dbl&gt; | HOURLYDRYBULBTEMPF &lt;dbl&gt; | HOURLYPrecip &lt;chr&gt; | HOURLYWindSpeed &lt;dbl&gt; | HOURLYStationPressure &lt;dbl&gt; |\n",
       "|---|---|---|---|---|\n",
       "| 46 | 83 | 0.00 | 13 | 29.99 |\n",
       "| 48 | 53 | 0.00 |  6 | 30.03 |\n",
       "| 89 | 36 | 0.00 | 13 | 30.12 |\n",
       "| 48 | 36 | 0.00 | 14 | 29.80 |\n",
       "| 61 | 39 | T    | 11 | 30.50 |\n",
       "| 79 | 41 | 0.00 |  6 | 29.92 |\n",
       "| 51 | 19 | 0.00 |  0 | 30.40 |\n",
       "| 65 | 24 | 0.00 | 11 | 30.35 |\n",
       "| 90 | 54 | 0.06 | 11 | 30.03 |\n",
       "| 94 | 73 | NA   |  5 | 29.91 |\n",
       "\n"
      ],
      "text/plain": [
       "   HOURLYRelativeHumidity HOURLYDRYBULBTEMPF HOURLYPrecip HOURLYWindSpeed\n",
       "1  46                     83                 0.00         13             \n",
       "2  48                     53                 0.00          6             \n",
       "3  89                     36                 0.00         13             \n",
       "4  48                     36                 0.00         14             \n",
       "5  61                     39                 T            11             \n",
       "6  79                     41                 0.00          6             \n",
       "7  51                     19                 0.00          0             \n",
       "8  65                     24                 0.00         11             \n",
       "9  90                     54                 0.06         11             \n",
       "10 94                     73                 NA            5             \n",
       "   HOURLYStationPressure\n",
       "1  29.99                \n",
       "2  30.03                \n",
       "3  30.12                \n",
       "4  29.80                \n",
       "5  30.50                \n",
       "6  29.92                \n",
       "7  30.40                \n",
       "8  30.35                \n",
       "9  30.03                \n",
       "10 29.91                "
      ]
     },
     "metadata": {},
     "output_type": "display_data"
    }
   ],
   "source": [
    "modified_weather_data[1:10, ]"
   ]
  },
  {
   "cell_type": "code",
   "execution_count": 10,
   "metadata": {
    "vscode": {
     "languageId": "r"
    }
   },
   "outputs": [
    {
     "data": {
      "text/html": [
       "<style>\n",
       ".list-inline {list-style: none; margin:0; padding: 0}\n",
       ".list-inline>li {display: inline-block}\n",
       ".list-inline>li:not(:last-child)::after {content: \"\\00b7\"; padding: 0 .5ex}\n",
       "</style>\n",
       "<ol class=list-inline><li>'0.00'</li><li>'T'</li><li>'0.06'</li><li>NA</li><li>'0.03'</li><li>'0.02'</li><li>'0.08'</li><li>'0.01'</li><li>'0.07'</li><li>'0.16'</li><li>'0.09'</li><li>'0.22'</li><li>'0.02s'</li><li>'0.24'</li><li>'0.18'</li><li>'0.05'</li><li>'0.04'</li><li>'0.09s'</li><li>'0.11'</li><li>'0.14'</li><li>'0.25'</li><li>'0.10'</li><li>'0.01s'</li><li>'0.58'</li><li>'0.12'</li><li>'0.13'</li><li>'0.46'</li><li>'1.07'</li><li>'1.19'</li><li>'0.34'</li><li>'0.20'</li><li>'0.36s'</li><li>'0.42'</li><li>'0.17'</li><li>'0.27'</li><li>'0.35'</li><li>'0.31'</li><li>'0.33'</li><li>'0.23'</li><li>'0.26'</li><li>'0.28'</li><li>'0.75'</li><li>'0.19'</li><li>'0.36'</li><li>'0.03s'</li><li>'0.07s'</li><li>'0.54'</li><li>'0.59'</li><li>'0.21'</li></ol>\n"
      ],
      "text/latex": [
       "\\begin{enumerate*}\n",
       "\\item '0.00'\n",
       "\\item 'T'\n",
       "\\item '0.06'\n",
       "\\item NA\n",
       "\\item '0.03'\n",
       "\\item '0.02'\n",
       "\\item '0.08'\n",
       "\\item '0.01'\n",
       "\\item '0.07'\n",
       "\\item '0.16'\n",
       "\\item '0.09'\n",
       "\\item '0.22'\n",
       "\\item '0.02s'\n",
       "\\item '0.24'\n",
       "\\item '0.18'\n",
       "\\item '0.05'\n",
       "\\item '0.04'\n",
       "\\item '0.09s'\n",
       "\\item '0.11'\n",
       "\\item '0.14'\n",
       "\\item '0.25'\n",
       "\\item '0.10'\n",
       "\\item '0.01s'\n",
       "\\item '0.58'\n",
       "\\item '0.12'\n",
       "\\item '0.13'\n",
       "\\item '0.46'\n",
       "\\item '1.07'\n",
       "\\item '1.19'\n",
       "\\item '0.34'\n",
       "\\item '0.20'\n",
       "\\item '0.36s'\n",
       "\\item '0.42'\n",
       "\\item '0.17'\n",
       "\\item '0.27'\n",
       "\\item '0.35'\n",
       "\\item '0.31'\n",
       "\\item '0.33'\n",
       "\\item '0.23'\n",
       "\\item '0.26'\n",
       "\\item '0.28'\n",
       "\\item '0.75'\n",
       "\\item '0.19'\n",
       "\\item '0.36'\n",
       "\\item '0.03s'\n",
       "\\item '0.07s'\n",
       "\\item '0.54'\n",
       "\\item '0.59'\n",
       "\\item '0.21'\n",
       "\\end{enumerate*}\n"
      ],
      "text/markdown": [
       "1. '0.00'\n",
       "2. 'T'\n",
       "3. '0.06'\n",
       "4. NA\n",
       "5. '0.03'\n",
       "6. '0.02'\n",
       "7. '0.08'\n",
       "8. '0.01'\n",
       "9. '0.07'\n",
       "10. '0.16'\n",
       "11. '0.09'\n",
       "12. '0.22'\n",
       "13. '0.02s'\n",
       "14. '0.24'\n",
       "15. '0.18'\n",
       "16. '0.05'\n",
       "17. '0.04'\n",
       "18. '0.09s'\n",
       "19. '0.11'\n",
       "20. '0.14'\n",
       "21. '0.25'\n",
       "22. '0.10'\n",
       "23. '0.01s'\n",
       "24. '0.58'\n",
       "25. '0.12'\n",
       "26. '0.13'\n",
       "27. '0.46'\n",
       "28. '1.07'\n",
       "29. '1.19'\n",
       "30. '0.34'\n",
       "31. '0.20'\n",
       "32. '0.36s'\n",
       "33. '0.42'\n",
       "34. '0.17'\n",
       "35. '0.27'\n",
       "36. '0.35'\n",
       "37. '0.31'\n",
       "38. '0.33'\n",
       "39. '0.23'\n",
       "40. '0.26'\n",
       "41. '0.28'\n",
       "42. '0.75'\n",
       "43. '0.19'\n",
       "44. '0.36'\n",
       "45. '0.03s'\n",
       "46. '0.07s'\n",
       "47. '0.54'\n",
       "48. '0.59'\n",
       "49. '0.21'\n",
       "\n",
       "\n"
      ],
      "text/plain": [
       " [1] \"0.00\"  \"T\"     \"0.06\"  NA      \"0.03\"  \"0.02\"  \"0.08\"  \"0.01\"  \"0.07\" \n",
       "[10] \"0.16\"  \"0.09\"  \"0.22\"  \"0.02s\" \"0.24\"  \"0.18\"  \"0.05\"  \"0.04\"  \"0.09s\"\n",
       "[19] \"0.11\"  \"0.14\"  \"0.25\"  \"0.10\"  \"0.01s\" \"0.58\"  \"0.12\"  \"0.13\"  \"0.46\" \n",
       "[28] \"1.07\"  \"1.19\"  \"0.34\"  \"0.20\"  \"0.36s\" \"0.42\"  \"0.17\"  \"0.27\"  \"0.35\" \n",
       "[37] \"0.31\"  \"0.33\"  \"0.23\"  \"0.26\"  \"0.28\"  \"0.75\"  \"0.19\"  \"0.36\"  \"0.03s\"\n",
       "[46] \"0.07s\" \"0.54\"  \"0.59\"  \"0.21\" "
      ]
     },
     "metadata": {},
     "output_type": "display_data"
    }
   ],
   "source": [
    "unique(modified_weather_data$HOURLYPrecip)"
   ]
  },
  {
   "cell_type": "code",
   "execution_count": 11,
   "metadata": {
    "vscode": {
     "languageId": "r"
    }
   },
   "outputs": [],
   "source": [
    "weather_data_new <- modified_weather_data %>% mutate(HOURLYPrecip = str_replace(string = HOURLYPrecip, pattern = \"T$\", replacement = \"0.00\")) "
   ]
  },
  {
   "cell_type": "code",
   "execution_count": 12,
   "metadata": {
    "vscode": {
     "languageId": "r"
    }
   },
   "outputs": [],
   "source": [
    "weather_data_new_2 <- weather_data_new %>% mutate(HOURLYPrecip = str_remove(string = HOURLYPrecip, pattern = \"s$\")) "
   ]
  },
  {
   "cell_type": "code",
   "execution_count": 13,
   "metadata": {
    "vscode": {
     "languageId": "r"
    }
   },
   "outputs": [],
   "source": [
    "weather_data_new_2$HOURLYPrecip <- as.numeric(weather_data_new_2$HOURLYPrecip)"
   ]
  },
  {
   "cell_type": "code",
   "execution_count": 24,
   "metadata": {
    "vscode": {
     "languageId": "r"
    }
   },
   "outputs": [],
   "source": [
    "#weather_data_new_2 %>% drop_na()"
   ]
  },
  {
   "cell_type": "code",
   "execution_count": 15,
   "metadata": {
    "vscode": {
     "languageId": "r"
    }
   },
   "outputs": [
    {
     "name": "stdout",
     "output_type": "stream",
     "text": [
      "Rows: 5,727\n",
      "Columns: 5\n",
      "$ HOURLYRelativeHumidity <dbl> 46, 48, 89, 48, 61, 79, 51, 65, 90, 94, 79, 37,…\n",
      "$ HOURLYDRYBULBTEMPF     <dbl> 83, 53, 36, 36, 39, 41, 19, 24, 54, 73, 83, 44,…\n",
      "$ HOURLYPrecip           <dbl> 0.00, 0.00, 0.00, 0.00, 0.00, 0.00, 0.00, 0.00,…\n",
      "$ HOURLYWindSpeed        <dbl> 13, 6, 13, 14, 11, 6, 0, 11, 11, 5, 21, 7, 17, …\n",
      "$ HOURLYStationPressure  <dbl> 29.99, 30.03, 30.12, 29.80, 30.50, 29.92, 30.40…\n"
     ]
    }
   ],
   "source": [
    "glimpse(weather_data_new_2)"
   ]
  },
  {
   "cell_type": "code",
   "execution_count": 26,
   "metadata": {
    "vscode": {
     "languageId": "r"
    }
   },
   "outputs": [
    {
     "data": {
      "text/html": [
       "'numeric'"
      ],
      "text/latex": [
       "'numeric'"
      ],
      "text/markdown": [
       "'numeric'"
      ],
      "text/plain": [
       "[1] \"numeric\""
      ]
     },
     "metadata": {},
     "output_type": "display_data"
    }
   ],
   "source": [
    "class(weather_data_new_2$HOURLYPrecip)"
   ]
  },
  {
   "cell_type": "code",
   "execution_count": 16,
   "metadata": {
    "vscode": {
     "languageId": "r"
    }
   },
   "outputs": [],
   "source": [
    "modified_weather_data_new <- as.data.frame(weather_data_new_2)\n",
    "modified_weather_data_new <-  modified_weather_data_new [is.finite(rowSums(modified_weather_data_new )),]"
   ]
  },
  {
   "cell_type": "code",
   "execution_count": 17,
   "metadata": {
    "vscode": {
     "languageId": "r"
    }
   },
   "outputs": [
    {
     "data": {
      "text/html": [
       "<style>\n",
       ".list-inline {list-style: none; margin:0; padding: 0}\n",
       ".list-inline>li {display: inline-block}\n",
       ".list-inline>li:not(:last-child)::after {content: \"\\00b7\"; padding: 0 .5ex}\n",
       "</style>\n",
       "<ol class=list-inline><li>'relative_humidity'</li><li>'dry_bulb_temp_f'</li><li>'precip'</li><li>'wind_speed'</li><li>'station_pressure'</li></ol>\n"
      ],
      "text/latex": [
       "\\begin{enumerate*}\n",
       "\\item 'relative\\_humidity'\n",
       "\\item 'dry\\_bulb\\_temp\\_f'\n",
       "\\item 'precip'\n",
       "\\item 'wind\\_speed'\n",
       "\\item 'station\\_pressure'\n",
       "\\end{enumerate*}\n"
      ],
      "text/markdown": [
       "1. 'relative_humidity'\n",
       "2. 'dry_bulb_temp_f'\n",
       "3. 'precip'\n",
       "4. 'wind_speed'\n",
       "5. 'station_pressure'\n",
       "\n",
       "\n"
      ],
      "text/plain": [
       "[1] \"relative_humidity\" \"dry_bulb_temp_f\"   \"precip\"           \n",
       "[4] \"wind_speed\"        \"station_pressure\" "
      ]
     },
     "metadata": {},
     "output_type": "display_data"
    }
   ],
   "source": [
    "modified_weather_data_new <- weather_data_new_2 %>% rename('relative_humidity'= 'HOURLYRelativeHumidity', 'dry_bulb_temp_f' = 'HOURLYDRYBULBTEMPF', 'precip' = 'HOURLYPrecip', 'wind_speed' = 'HOURLYWindSpeed', 'station_pressure' = 'HOURLYStationPressure')\n",
    "colnames(modified_weather_data_new)"
   ]
  },
  {
   "cell_type": "code",
   "execution_count": 18,
   "metadata": {
    "vscode": {
     "languageId": "r"
    }
   },
   "outputs": [],
   "source": [
    "modified_weather_data_new <- modified_weather_data_new %>% filter (precip != \"NA\")"
   ]
  },
  {
   "cell_type": "code",
   "execution_count": 19,
   "metadata": {
    "vscode": {
     "languageId": "r"
    }
   },
   "outputs": [
    {
     "name": "stdout",
     "output_type": "stream",
     "text": [
      "Rows: 4,067\n",
      "Columns: 5\n",
      "$ relative_humidity <dbl> 46, 48, 89, 48, 61, 79, 51, 65, 90, 37, 72, 47, 84, …\n",
      "$ dry_bulb_temp_f   <dbl> 83, 53, 36, 36, 39, 41, 19, 24, 54, 44, 57, 78, 75, …\n",
      "$ precip            <dbl> 0.00, 0.00, 0.00, 0.00, 0.00, 0.00, 0.00, 0.00, 0.06…\n",
      "$ wind_speed        <dbl> 13, 6, 13, 14, 11, 6, 0, 11, 11, 7, 17, 8, 3, 11, 13…\n",
      "$ station_pressure  <dbl> 29.99, 30.03, 30.12, 29.80, 30.50, 29.92, 30.40, 30.…\n"
     ]
    }
   ],
   "source": [
    "glimpse(modified_weather_data_new)"
   ]
  },
  {
   "cell_type": "code",
   "execution_count": 20,
   "metadata": {
    "vscode": {
     "languageId": "r"
    }
   },
   "outputs": [],
   "source": [
    "set.seed(1234)\n",
    "weather_data_split<- initial_split(modified_weather_data_new, prop = 0.8)\n",
    "train_data <- training(weather_data_split)\n",
    "test_data <- testing(weather_data_split)"
   ]
  },
  {
   "cell_type": "markdown",
   "metadata": {},
   "source": [
    "Next, looking at just the **training set**, plot histograms or box plots of the variables (`relative_humidity`, `dry_bulb_temp_f`, `precip`, `wind_speed`,  `station_pressure`) for an intial look of their distributions using `tidyverse`'s `ggplot`. Leave the testing set as is because it is good practice to not see the testing set until evaluating the final model.\n"
   ]
  },
  {
   "cell_type": "code",
   "execution_count": 21,
   "metadata": {
    "vscode": {
     "languageId": "r"
    }
   },
   "outputs": [
    {
     "name": "stderr",
     "output_type": "stream",
     "text": [
      "Warning message:\n",
      "“Ignoring unknown parameters: stat_bin”`stat_bin()` using `bins = 30`. Pick better value with `binwidth`.\n"
     ]
    },
    {
     "data": {},
     "metadata": {},
     "output_type": "display_data"
    },
    {
     "name": "stderr",
     "output_type": "stream",
     "text": [
      "Warning message:\n",
      "“Ignoring unknown parameters: stat_bin”`stat_bin()` using `bins = 30`. Pick better value with `binwidth`.\n"
     ]
    },
    {
     "data": {},
     "metadata": {},
     "output_type": "display_data"
    },
    {
     "data": {
      "image/png": "[encoded data removed]",
      "text/plain": [
       "plot without title"
      ]
     },
     "metadata": {},
     "output_type": "display_data"
    },
    {
     "name": "stderr",
     "output_type": "stream",
     "text": [
      "Warning message:\n",
      "“Ignoring unknown parameters: stat_bin”`stat_bin()` using `bins = 30`. Pick better value with `binwidth`.\n"
     ]
    },
    {
     "data": {},
     "metadata": {},
     "output_type": "display_data"
    },
    {
     "data": {
      "image/png": "[encoded data removed]",
      "text/plain": [
       "plot without title"
      ]
     },
     "metadata": {},
     "output_type": "display_data"
    },
    {
     "name": "stderr",
     "output_type": "stream",
     "text": [
      "Warning message:\n",
      "“Ignoring unknown parameters: stat_bin”`stat_bin()` using `bins = 30`. Pick better value with `binwidth`.\n"
     ]
    },
    {
     "data": {},
     "metadata": {},
     "output_type": "display_data"
    },
    {
     "data": {
      "image/png": "[encoded data removed]",
      "text/plain": [
       "plot without title"
      ]
     },
     "metadata": {},
     "output_type": "display_data"
    },
    {
     "name": "stderr",
     "output_type": "stream",
     "text": [
      "Warning message:\n",
      "“Ignoring unknown parameters: stat_bin”`stat_bin()` using `bins = 30`. Pick better value with `binwidth`.\n",
      "Warning message:\n",
      "“Removed 4 rows containing non-finite values (stat_bin).”"
     ]
    },
    {
     "data": {},
     "metadata": {},
     "output_type": "display_data"
    },
    {
     "data": {
      "image/png": "[encoded data removed]",
      "text/plain": [
       "plot without title"
      ]
     },
     "metadata": {},
     "output_type": "display_data"
    },
    {
     "data": {
      "image/png": "[encoded data removed]",
      "text/plain": [
       "plot without title"
      ]
     },
     "metadata": {},
     "output_type": "display_data"
    }
   ],
   "source": [
    "ggplot(data = train_data, aes(x = precip)) + geom_histogram (stat_bin= 100, color = \"blue\", fill =\"black\") + theme(aspect.ratio = .25) \n",
    "ggplot(data = train_data, aes(x = relative_humidity)) + geom_histogram (stat_bin= 100, color = \"blue\", fill =\"black\") + theme(aspect.ratio = .25) \n",
    "ggplot(data = train_data, aes(x = dry_bulb_temp_f)) + geom_histogram (stat_bin= 100, color = \"blue\", fill =\"black\") + theme(aspect.ratio = .25) \n",
    "ggplot(data = train_data, aes(x = wind_speed)) + geom_histogram (stat_bin= 100, color = \"blue\", fill =\"black\") + theme(aspect.ratio = .25) \n",
    "ggplot(data = train_data, aes(x = station_pressure)) + geom_histogram (stat_bin= 100, color = \"blue\", fill =\"black\") + theme(aspect.ratio = .25) \n"
   ]
  },
  {
   "cell_type": "code",
   "execution_count": 22,
   "metadata": {
    "vscode": {
     "languageId": "r"
    }
   },
   "outputs": [
    {
     "data": {
      "text/plain": [
       "Linear Regression Model Specification (regression)\n",
       "\n",
       "Computational engine: lm \n"
      ]
     },
     "metadata": {},
     "output_type": "display_data"
    },
    {
     "data": {
      "text/plain": [
       "parsnip model object\n",
       "\n",
       "\n",
       "Call:\n",
       "stats::lm(formula = precip ~ relative_humidity, data = data)\n",
       "\n",
       "Coefficients:\n",
       "      (Intercept)  relative_humidity  \n",
       "       -0.0204478          0.0004093  \n"
      ]
     },
     "metadata": {},
     "output_type": "display_data"
    },
    {
     "data": {
      "text/plain": [
       "parsnip model object\n",
       "\n",
       "\n",
       "Call:\n",
       "stats::lm(formula = precip ~ wind_speed, data = data)\n",
       "\n",
       "Coefficients:\n",
       "(Intercept)   wind_speed  \n",
       "   0.000713     0.000518  \n"
      ]
     },
     "metadata": {},
     "output_type": "display_data"
    },
    {
     "data": {
      "text/plain": [
       "parsnip model object\n",
       "\n",
       "\n",
       "Call:\n",
       "stats::lm(formula = precip ~ station_pressure, data = data)\n",
       "\n",
       "Coefficients:\n",
       "     (Intercept)  station_pressure  \n",
       "         0.70814          -0.02339  \n"
      ]
     },
     "metadata": {},
     "output_type": "display_data"
    },
    {
     "data": {
      "text/plain": [
       "parsnip model object\n",
       "\n",
       "\n",
       "Call:\n",
       "stats::lm(formula = precip ~ dry_bulb_temp_f, data = data)\n",
       "\n",
       "Coefficients:\n",
       "    (Intercept)  dry_bulb_temp_f  \n",
       "      5.024e-03        2.749e-05  \n"
      ]
     },
     "metadata": {},
     "output_type": "display_data"
    }
   ],
   "source": [
    "lm_spec <- linear_reg() %>%  #pick linear rigression\n",
    "  set_engine(engine = \"lm\")  # set engine\n",
    "lm_spec\n",
    "train_fit_1 <- lm_spec %>%  fit(precip ~ relative_humidity, data = modified_weather_data_new )\n",
    "train_fit_1\n",
    "train_fit_2 <- lm_spec %>%  fit(precip ~ wind_speed, data = modified_weather_data_new )\n",
    "train_fit_2 \n",
    "train_fit_3 <- lm_spec %>%  fit(precip ~ station_pressure, data = modified_weather_data_new )\n",
    "train_fit_3 \n",
    "train_fit_4 <- lm_spec %>%  fit(precip ~ dry_bulb_temp_f, data = modified_weather_data_new )\n",
    "train_fit_4 "
   ]
  },
  {
   "cell_type": "code",
   "execution_count": 23,
   "metadata": {
    "vscode": {
     "languageId": "r"
    }
   },
   "outputs": [
    {
     "data": {},
     "metadata": {},
     "output_type": "display_data"
    },
    {
     "data": {},
     "metadata": {},
     "output_type": "display_data"
    },
    {
     "data": {
      "image/png": "[encoded data removed]",
      "text/plain": [
       "plot without title"
      ]
     },
     "metadata": {},
     "output_type": "display_data"
    },
    {
     "name": "stderr",
     "output_type": "stream",
     "text": [
      "Warning message:\n",
      "“Removed 4 rows containing non-finite values (stat_smooth).”Warning message:\n",
      "“Removed 4 rows containing missing values (geom_point).”"
     ]
    },
    {
     "data": {},
     "metadata": {},
     "output_type": "display_data"
    },
    {
     "data": {
      "image/png": "[encoded data removed]",
      "text/plain": [
       "plot without title"
      ]
     },
     "metadata": {},
     "output_type": "display_data"
    },
    {
     "data": {},
     "metadata": {},
     "output_type": "display_data"
    },
    {
     "data": {
      "image/png": "[encoded data removed]",
      "text/plain": [
       "plot without title"
      ]
     },
     "metadata": {},
     "output_type": "display_data"
    },
    {
     "data": {
      "image/png": "[encoded data removed]",
      "text/plain": [
       "plot without title"
      ]
     },
     "metadata": {},
     "output_type": "display_data"
    }
   ],
   "source": [
    "ggplot(train_data, aes(x = relative_humidity, y = precip)) + geom_point() + geom_smooth(method = \"lm\", formula = y ~ x, col = \"red\", se = FALSE) \n",
    "ggplot(train_data, aes(x = wind_speed, y = precip)) + geom_point() + geom_smooth(method = \"lm\", formula = y ~ x, col = \"red\", se = FALSE)  + theme(aspect.ratio = .25)\n",
    "ggplot(train_data, aes(x = station_pressure, y = precip)) + geom_point() + geom_smooth(method = \"lm\", formula = y ~ x, col = \"red\", se = FALSE)  + theme(aspect.ratio = .25)\n",
    "ggplot(train_data, aes(x = dry_bulb_temp_f, y = precip)) + geom_point() + geom_smooth(method = \"lm\", formula = y ~ x, col = \"red\", se = FALSE)  + theme(aspect.ratio = .25)"
   ]
  },
  {
   "cell_type": "code",
   "execution_count": 33,
   "metadata": {
    "vscode": {
     "languageId": "r"
    }
   },
   "outputs": [
    {
     "data": {
      "text/html": [
       "<table>\n",
       "<caption>A matrix: 6 × 3 of type dbl</caption>\n",
       "<thead>\n",
       "\t<tr><th></th><th scope=col>fit</th><th scope=col>lwr</th><th scope=col>upr</th></tr>\n",
       "</thead>\n",
       "<tbody>\n",
       "\t<tr><th scope=row>1</th><td> 0.005538053</td><td> 0.003114795</td><td> 0.007961311</td></tr>\n",
       "\t<tr><th scope=row>2</th><td> 0.005825956</td><td> 0.004533859</td><td> 0.007118053</td></tr>\n",
       "\t<tr><th scope=row>3</th><td> 0.004371759</td><td> 0.002423709</td><td> 0.006319809</td></tr>\n",
       "\t<tr><th scope=row>4</th><td> 0.012058136</td><td> 0.009703154</td><td> 0.014413118</td></tr>\n",
       "\t<tr><th scope=row>5</th><td>-0.004880683</td><td>-0.007920102</td><td>-0.001841264</td></tr>\n",
       "\t<tr><th scope=row>6</th><td> 0.008967628</td><td> 0.007191013</td><td> 0.010744243</td></tr>\n",
       "</tbody>\n",
       "</table>\n"
      ],
      "text/latex": [
       "A matrix: 6 × 3 of type dbl\n",
       "\\begin{tabular}{r|lll}\n",
       "  & fit & lwr & upr\\\\\n",
       "\\hline\n",
       "\t1 &  0.005538053 &  0.003114795 &  0.007961311\\\\\n",
       "\t2 &  0.005825956 &  0.004533859 &  0.007118053\\\\\n",
       "\t3 &  0.004371759 &  0.002423709 &  0.006319809\\\\\n",
       "\t4 &  0.012058136 &  0.009703154 &  0.014413118\\\\\n",
       "\t5 & -0.004880683 & -0.007920102 & -0.001841264\\\\\n",
       "\t6 &  0.008967628 &  0.007191013 &  0.010744243\\\\\n",
       "\\end{tabular}\n"
      ],
      "text/markdown": [
       "\n",
       "A matrix: 6 × 3 of type dbl\n",
       "\n",
       "| <!--/--> | fit | lwr | upr |\n",
       "|---|---|---|---|\n",
       "| 1 |  0.005538053 |  0.003114795 |  0.007961311 |\n",
       "| 2 |  0.005825956 |  0.004533859 |  0.007118053 |\n",
       "| 3 |  0.004371759 |  0.002423709 |  0.006319809 |\n",
       "| 4 |  0.012058136 |  0.009703154 |  0.014413118 |\n",
       "| 5 | -0.004880683 | -0.007920102 | -0.001841264 |\n",
       "| 6 |  0.008967628 |  0.007191013 |  0.010744243 |\n",
       "\n"
      ],
      "text/plain": [
       "  fit          lwr          upr         \n",
       "1  0.005538053  0.003114795  0.007961311\n",
       "2  0.005825956  0.004533859  0.007118053\n",
       "3  0.004371759  0.002423709  0.006319809\n",
       "4  0.012058136  0.009703154  0.014413118\n",
       "5 -0.004880683 -0.007920102 -0.001841264\n",
       "6  0.008967628  0.007191013  0.010744243"
      ]
     },
     "metadata": {},
     "output_type": "display_data"
    }
   ],
   "source": [
    "train_mlr<- lm(precip ~ dry_bulb_temp_f + station_pressure, data = modified_weather_data_new)\n",
    "predict_mlr <- predict(train_mlr, new_data = train_data, interval = \"confidence\")\n",
    "head(predict_mlr)"
   ]
  },
  {
   "cell_type": "code",
   "execution_count": 34,
   "metadata": {
    "vscode": {
     "languageId": "r"
    }
   },
   "outputs": [
    {
     "data": {
      "text/html": [
       "0.00362805112082582"
      ],
      "text/latex": [
       "0.00362805112082582"
      ],
      "text/markdown": [
       "0.00362805112082582"
      ],
      "text/plain": [
       "[1] 0.003628051"
      ]
     },
     "metadata": {},
     "output_type": "display_data"
    },
    {
     "data": {
      "text/html": [
       "0.00152989101084823"
      ],
      "text/latex": [
       "0.00152989101084823"
      ],
      "text/markdown": [
       "0.00152989101084823"
      ],
      "text/plain": [
       "[1] 0.001529891"
      ]
     },
     "metadata": {},
     "output_type": "display_data"
    },
    {
     "data": {
      "text/html": [
       "0.0391138212253447"
      ],
      "text/latex": [
       "0.0391138212253447"
      ],
      "text/markdown": [
       "0.0391138212253447"
      ],
      "text/plain": [
       "[1] 0.03911382"
      ]
     },
     "metadata": {},
     "output_type": "display_data"
    }
   ],
   "source": [
    "model_2 <- lm(precip ~ poly(dry_bulb_temp_f, 4, raw = TRUE), data = train_data)\n",
    "#model_2\n",
    "summary(model_2)$r.squared #R squared value is 1.8%\n",
    "mse_mlr <- mean(model_2$residual^2)\n",
    "mse_mlr\n",
    "rmse <- sqrt(mse_mlr)\n",
    "rmse"
   ]
  },
  {
   "cell_type": "code",
   "execution_count": 36,
   "metadata": {
    "vscode": {
     "languageId": "r"
    }
   },
   "outputs": [],
   "source": [
    "wheather_recipe <-\n",
    "  recipe(precip ~ ., data = train_data)"
   ]
  },
  {
   "cell_type": "code",
   "execution_count": 37,
   "metadata": {
    "vscode": {
     "languageId": "r"
    }
   },
   "outputs": [],
   "source": [
    "ridge_spec <- linear_reg(penalty = 0.1, mixture = 0) %>%\n",
    "  set_engine(\"glmnet\")"
   ]
  },
  {
   "cell_type": "code",
   "execution_count": 38,
   "metadata": {
    "vscode": {
     "languageId": "r"
    }
   },
   "outputs": [],
   "source": [
    "ridge_wf <- workflow() %>%\n",
    "  add_recipe(wheather_recipe)"
   ]
  },
  {
   "cell_type": "code",
   "execution_count": 39,
   "metadata": {
    "vscode": {
     "languageId": "r"
    }
   },
   "outputs": [
    {
     "ename": "ERROR",
     "evalue": "Error in elnet(x, is.sparse, ix, jx, y, weights, offset, type.gaussian, : NA/NaN/Inf in foreign function call (arg 5)\n",
     "output_type": "error",
     "traceback": [
      "Error in elnet(x, is.sparse, ix, jx, y, weights, offset, type.gaussian, : NA/NaN/Inf in foreign function call (arg 5)\nTraceback:\n",
      "1. ridge_wf %>% add_model(ridge_spec) %>% fit(data = train_data)",
      "2. withVisible(eval(quote(`_fseq`(`_lhs`)), env, env))",
      "3. eval(quote(`_fseq`(`_lhs`)), env, env)",
      "4. eval(quote(`_fseq`(`_lhs`)), env, env)",
      "5. `_fseq`(`_lhs`)",
      "6. freduce(value, `_function_list`)",
      "7. withVisible(function_list[[k]](value))",
      "8. function_list[[k]](value)",
      "9. fit(., data = train_data)",
      "10. fit.workflow(., data = train_data)",
      "11. .fit_model(workflow, control)",
      "12. fit(action_model, workflow = workflow, control = control)",
      "13. fit.action_model(action_model, workflow = workflow, control = control)",
      "14. fit_from_xy(spec, mold, case_weights, control_parsnip)",
      "15. fit_xy(spec, x = mold$predictors, y = mold$outcomes, case_weights = case_weights, \n  .     control = control_parsnip)",
      "16. fit_xy.model_spec(spec, x = mold$predictors, y = mold$outcomes, \n  .     case_weights = case_weights, control = control_parsnip)",
      "17. xy_xy(object = object, env = eval_env, control = control, target = \"matrix\", \n  .     ...)",
      "18. eval_mod(fit_call, capture = control$verbosity == 0, catch = control$catch, \n  .     envir = env, ...)",
      "19. eval_tidy(e, env = envir, ...)",
      "20. glmnet::glmnet(x = maybe_matrix(x), y = y, alpha = ~0, family = \"gaussian\")",
      "21. elnet(x, is.sparse, ix, jx, y, weights, offset, type.gaussian, \n  .     alpha, nobs, nvars, jd, vp, cl, ne, nx, nlam, flmin, ulam, \n  .     thresh, isd, intr, vnames, maxit)"
     ]
    }
   ],
   "source": [
    "ridge_fit <- ridge_wf %>%\n",
    "  add_model(ridge_spec) %>%\n",
    "  fit(data = train_data)"
   ]
  },
  {
   "cell_type": "code",
   "execution_count": 27,
   "metadata": {
    "vscode": {
     "languageId": "r"
    }
   },
   "outputs": [
    {
     "name": "stderr",
     "output_type": "stream",
     "text": [
      "Warning message:\n",
      "“`pull_workflow_fit()` was deprecated in workflows 0.2.3.\n",
      "Please use `extract_fit_parsnip()` instead.”Loading required package: Matrix\n",
      "\n",
      "Attaching package: ‘Matrix’\n",
      "\n",
      "The following objects are masked from ‘package:tidyr’:\n",
      "\n",
      "    expand, pack, unpack\n",
      "\n",
      "Loading required package: foreach\n",
      "\n",
      "Attaching package: ‘foreach’\n",
      "\n",
      "The following objects are masked from ‘package:purrr’:\n",
      "\n",
      "    accumulate, when\n",
      "\n",
      "Loaded glmnet 2.0-18\n",
      "\n"
     ]
    },
    {
     "data": {
      "text/html": [
       "<table>\n",
       "<caption>A tibble: 9 × 3</caption>\n",
       "<thead>\n",
       "\t<tr><th scope=col>term</th><th scope=col>estimate</th><th scope=col>penalty</th></tr>\n",
       "\t<tr><th scope=col>&lt;chr&gt;</th><th scope=col>&lt;dbl&gt;</th><th scope=col>&lt;dbl&gt;</th></tr>\n",
       "</thead>\n",
       "<tbody>\n",
       "\t<tr><td>(Intercept)      </td><td> 2.74354584</td><td>0.1</td></tr>\n",
       "\t<tr><td>DepDelayMinutes  </td><td> 0.62721460</td><td>0.1</td></tr>\n",
       "\t<tr><td>CarrierDelay     </td><td> 0.29353616</td><td>0.1</td></tr>\n",
       "\t<tr><td>WeatherDelay     </td><td> 0.31756011</td><td>0.1</td></tr>\n",
       "\t<tr><td>NASDelay         </td><td> 0.55546064</td><td>0.1</td></tr>\n",
       "\t<tr><td>SecurityDelay    </td><td> 0.05339743</td><td>0.1</td></tr>\n",
       "\t<tr><td>LateAircraftDelay</td><td> 0.28670982</td><td>0.1</td></tr>\n",
       "\t<tr><td>DayOfWeek        </td><td> 0.20576951</td><td>0.1</td></tr>\n",
       "\t<tr><td>Month            </td><td>-0.07699068</td><td>0.1</td></tr>\n",
       "</tbody>\n",
       "</table>\n"
      ],
      "text/latex": [
       "A tibble: 9 × 3\n",
       "\\begin{tabular}{lll}\n",
       " term & estimate & penalty\\\\\n",
       " <chr> & <dbl> & <dbl>\\\\\n",
       "\\hline\n",
       "\t (Intercept)       &  2.74354584 & 0.1\\\\\n",
       "\t DepDelayMinutes   &  0.62721460 & 0.1\\\\\n",
       "\t CarrierDelay      &  0.29353616 & 0.1\\\\\n",
       "\t WeatherDelay      &  0.31756011 & 0.1\\\\\n",
       "\t NASDelay          &  0.55546064 & 0.1\\\\\n",
       "\t SecurityDelay     &  0.05339743 & 0.1\\\\\n",
       "\t LateAircraftDelay &  0.28670982 & 0.1\\\\\n",
       "\t DayOfWeek         &  0.20576951 & 0.1\\\\\n",
       "\t Month             & -0.07699068 & 0.1\\\\\n",
       "\\end{tabular}\n"
      ],
      "text/markdown": [
       "\n",
       "A tibble: 9 × 3\n",
       "\n",
       "| term &lt;chr&gt; | estimate &lt;dbl&gt; | penalty &lt;dbl&gt; |\n",
       "|---|---|---|\n",
       "| (Intercept)       |  2.74354584 | 0.1 |\n",
       "| DepDelayMinutes   |  0.62721460 | 0.1 |\n",
       "| CarrierDelay      |  0.29353616 | 0.1 |\n",
       "| WeatherDelay      |  0.31756011 | 0.1 |\n",
       "| NASDelay          |  0.55546064 | 0.1 |\n",
       "| SecurityDelay     |  0.05339743 | 0.1 |\n",
       "| LateAircraftDelay |  0.28670982 | 0.1 |\n",
       "| DayOfWeek         |  0.20576951 | 0.1 |\n",
       "| Month             | -0.07699068 | 0.1 |\n",
       "\n"
      ],
      "text/plain": [
       "  term              estimate    penalty\n",
       "1 (Intercept)        2.74354584 0.1    \n",
       "2 DepDelayMinutes    0.62721460 0.1    \n",
       "3 CarrierDelay       0.29353616 0.1    \n",
       "4 WeatherDelay       0.31756011 0.1    \n",
       "5 NASDelay           0.55546064 0.1    \n",
       "6 SecurityDelay      0.05339743 0.1    \n",
       "7 LateAircraftDelay  0.28670982 0.1    \n",
       "8 DayOfWeek          0.20576951 0.1    \n",
       "9 Month             -0.07699068 0.1    "
      ]
     },
     "metadata": {},
     "output_type": "display_data"
    }
   ],
   "source": [
    "ridge_fit %>%\n",
    "  pull_workflow_fit() %>%\n",
    "  tidy()"
   ]
  },
  {
   "cell_type": "code",
   "execution_count": null,
   "metadata": {
    "vscode": {
     "languageId": "r"
    }
   },
   "outputs": [],
   "source": []
  },
  {
   "cell_type": "markdown",
   "metadata": {},
   "source": [
    "## Author(s)\n",
    "\n",
    "<h4> Yiwen Li </h4>\n",
    "\n",
    "## Contributions\n",
    "\n",
    "<h4> Tiffany Zhu </h4>\n",
    "\n",
    "## <h3 align=\"center\"> © IBM Corporation 2021. All rights reserved. <h3/>\n"
   ]
  }
 ],
 "metadata": {
  "kernelspec": {
   "display_name": "R",
   "language": "R",
   "name": "conda-env-r-r"
  },
  "language_info": {
   "codemirror_mode": "r",
   "file_extension": ".r",
   "mimetype": "text/x-r-source",
   "name": "R",
   "pygments_lexer": "r",
   "version": "3.5.1"
  },
  "widgets": {
   "state": {},
   "version": "1.1.2"
  }
 },
 "nbformat": 4,
 "nbformat_minor": 4
}
